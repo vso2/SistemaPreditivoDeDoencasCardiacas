{
  "nbformat": 4,
  "nbformat_minor": 0,
  "metadata": {
    "colab": {
      "name": "Projeto-mcaa-mlss-vso2",
      "provenance": [],
      "collapsed_sections": [
        "p3OKD5aPtNKn"
      ]
    },
    "kernelspec": {
      "name": "python3",
      "display_name": "Python 3"
    },
    "language_info": {
      "name": "python"
    }
  },
  "cells": [
    {
      "cell_type": "markdown",
      "source": [
        "# **Sistema de Predição de Doenças Cardíacas Utilizando o Classificador Ingênuo de Bayes**\n",
        "\n",
        "### **Grupo:**\n",
        "\n",
        "\n",
        "\n",
        "*   Maria Clara Alves Acruchi - mcaa@cin.ufpe.br\n",
        "*   Maria Luísa dos Santos Silva - mlss@cin.ufpe.br\n",
        "*   Vinícius Sales Oliveira - vso2@cin.ufpe.br\n",
        "\n"
      ],
      "metadata": {
        "id": "V6ErvlSRkcQN"
      }
    },
    {
      "cell_type": "markdown",
      "metadata": {
        "id": "76t-0_qLwVJa"
      },
      "source": [
        "## **Análise Exploratória dos Dados**"
      ]
    },
    {
      "cell_type": "code",
      "metadata": {
        "id": "GtPhpDvLXfU5"
      },
      "source": [
        "# importando as bibliotecas que serão utilizadas\n",
        "import pandas as pd\n",
        "import numpy as np\n",
        "import seaborn as sns\n",
        "from scipy import stats\n",
        "import matplotlib.pyplot as plt\n"
      ],
      "execution_count": 1,
      "outputs": []
    },
    {
      "cell_type": "markdown",
      "source": [
        "### **Importando Dataset**"
      ],
      "metadata": {
        "id": "p3OKD5aPtNKn"
      }
    },
    {
      "cell_type": "markdown",
      "source": [
        "Nesse projeto, utilizamos a base de dados \"[Heart Disease Data Set](https://archive.ics.uci.edu/ml/datasets/heart+disease)\". \n",
        "\n",
        "Os dados estavam divididos em quatro arquivos diferentes, referentes aos diferentes hospitais em que foram coletados, então, para facilitar o acesso aos dados, unimos todos esses dados.\n",
        "\n",
        "Em seguida, visto que as colunas não estavam nomeadas e vários dados estavam faltando, foi necessário renomear as colunas e substituir os valores ausentes (antes representados por \"?\") por NaN."
      ],
      "metadata": {
        "id": "VkkE2L9dl8GI"
      }
    },
    {
      "cell_type": "code",
      "metadata": {
        "id": "AlljOwx3Zcew"
      },
      "source": [
        "# importando dataset\n",
        "df_cleveland_raw = pd.read_csv('processed.cleveland.data', header= None)\n",
        "df_hungarian_raw = pd.read_csv('processed.hungarian.data', header= None)\n",
        "df_switzerland_raw = pd.read_csv('processed.switzerland.data', header= None)\n",
        "df_va_raw = pd.read_csv('processed.va.data', header= None)\n",
        "\n",
        "# unindo os dados em uma única variável\n",
        "df_raw = pd.concat([df_cleveland_raw,df_hungarian_raw,df_switzerland_raw,df_va_raw], axis=0)\n",
        "table = df_raw.to_numpy()\n",
        "table = table.T\n",
        "\n",
        "# renomeando as colunas\n",
        "names = {'age':table[0], 'sex':table[1], 'cp':table[2], 'trestbps':table[3],'chol':table[4], 'fbs':table[5], 'restcg':table[6],'thalach':table[7],'exang':table[8],'oldpeak':table[9],'slope':table[10],'ca':table[11] ,'thal':table[12],'num':table[13]}\n",
        "df = pd.DataFrame(names)\n",
        "\n",
        "# substituindo valores ausentes por NaN\n",
        "df.replace(\"?\",np.nan, inplace=True)\n",
        "\n"
      ],
      "execution_count": 2,
      "outputs": []
    },
    {
      "cell_type": "code",
      "metadata": {
        "id": "IrAsgeNqaV_A",
        "colab": {
          "base_uri": "https://localhost:8080/",
          "height": 0
        },
        "outputId": "c62476ec-d85e-4dc5-d622-5250526a26b8"
      },
      "source": [
        "# visualizando a tabela com as colunas renomeadas\n",
        "df.head()"
      ],
      "execution_count": 3,
      "outputs": [
        {
          "output_type": "execute_result",
          "data": {
            "text/html": [
              "\n",
              "  <div id=\"df-36b55499-efb5-4d52-b794-08c9f0cd16f3\">\n",
              "    <div class=\"colab-df-container\">\n",
              "      <div>\n",
              "<style scoped>\n",
              "    .dataframe tbody tr th:only-of-type {\n",
              "        vertical-align: middle;\n",
              "    }\n",
              "\n",
              "    .dataframe tbody tr th {\n",
              "        vertical-align: top;\n",
              "    }\n",
              "\n",
              "    .dataframe thead th {\n",
              "        text-align: right;\n",
              "    }\n",
              "</style>\n",
              "<table border=\"1\" class=\"dataframe\">\n",
              "  <thead>\n",
              "    <tr style=\"text-align: right;\">\n",
              "      <th></th>\n",
              "      <th>age</th>\n",
              "      <th>sex</th>\n",
              "      <th>cp</th>\n",
              "      <th>trestbps</th>\n",
              "      <th>chol</th>\n",
              "      <th>fbs</th>\n",
              "      <th>restcg</th>\n",
              "      <th>thalach</th>\n",
              "      <th>exang</th>\n",
              "      <th>oldpeak</th>\n",
              "      <th>slope</th>\n",
              "      <th>ca</th>\n",
              "      <th>thal</th>\n",
              "      <th>num</th>\n",
              "    </tr>\n",
              "  </thead>\n",
              "  <tbody>\n",
              "    <tr>\n",
              "      <th>0</th>\n",
              "      <td>63.0</td>\n",
              "      <td>1.0</td>\n",
              "      <td>1.0</td>\n",
              "      <td>145</td>\n",
              "      <td>233</td>\n",
              "      <td>1</td>\n",
              "      <td>2</td>\n",
              "      <td>150</td>\n",
              "      <td>0</td>\n",
              "      <td>2.3</td>\n",
              "      <td>3</td>\n",
              "      <td>0.0</td>\n",
              "      <td>6.0</td>\n",
              "      <td>0</td>\n",
              "    </tr>\n",
              "    <tr>\n",
              "      <th>1</th>\n",
              "      <td>67.0</td>\n",
              "      <td>1.0</td>\n",
              "      <td>4.0</td>\n",
              "      <td>160</td>\n",
              "      <td>286</td>\n",
              "      <td>0</td>\n",
              "      <td>2</td>\n",
              "      <td>108</td>\n",
              "      <td>1</td>\n",
              "      <td>1.5</td>\n",
              "      <td>2</td>\n",
              "      <td>3.0</td>\n",
              "      <td>3.0</td>\n",
              "      <td>2</td>\n",
              "    </tr>\n",
              "    <tr>\n",
              "      <th>2</th>\n",
              "      <td>67.0</td>\n",
              "      <td>1.0</td>\n",
              "      <td>4.0</td>\n",
              "      <td>120</td>\n",
              "      <td>229</td>\n",
              "      <td>0</td>\n",
              "      <td>2</td>\n",
              "      <td>129</td>\n",
              "      <td>1</td>\n",
              "      <td>2.6</td>\n",
              "      <td>2</td>\n",
              "      <td>2.0</td>\n",
              "      <td>7.0</td>\n",
              "      <td>1</td>\n",
              "    </tr>\n",
              "    <tr>\n",
              "      <th>3</th>\n",
              "      <td>37.0</td>\n",
              "      <td>1.0</td>\n",
              "      <td>3.0</td>\n",
              "      <td>130</td>\n",
              "      <td>250</td>\n",
              "      <td>0</td>\n",
              "      <td>0</td>\n",
              "      <td>187</td>\n",
              "      <td>0</td>\n",
              "      <td>3.5</td>\n",
              "      <td>3</td>\n",
              "      <td>0.0</td>\n",
              "      <td>3.0</td>\n",
              "      <td>0</td>\n",
              "    </tr>\n",
              "    <tr>\n",
              "      <th>4</th>\n",
              "      <td>41.0</td>\n",
              "      <td>0.0</td>\n",
              "      <td>2.0</td>\n",
              "      <td>130</td>\n",
              "      <td>204</td>\n",
              "      <td>0</td>\n",
              "      <td>2</td>\n",
              "      <td>172</td>\n",
              "      <td>0</td>\n",
              "      <td>1.4</td>\n",
              "      <td>1</td>\n",
              "      <td>0.0</td>\n",
              "      <td>3.0</td>\n",
              "      <td>0</td>\n",
              "    </tr>\n",
              "  </tbody>\n",
              "</table>\n",
              "</div>\n",
              "      <button class=\"colab-df-convert\" onclick=\"convertToInteractive('df-36b55499-efb5-4d52-b794-08c9f0cd16f3')\"\n",
              "              title=\"Convert this dataframe to an interactive table.\"\n",
              "              style=\"display:none;\">\n",
              "        \n",
              "  <svg xmlns=\"http://www.w3.org/2000/svg\" height=\"24px\"viewBox=\"0 0 24 24\"\n",
              "       width=\"24px\">\n",
              "    <path d=\"M0 0h24v24H0V0z\" fill=\"none\"/>\n",
              "    <path d=\"M18.56 5.44l.94 2.06.94-2.06 2.06-.94-2.06-.94-.94-2.06-.94 2.06-2.06.94zm-11 1L8.5 8.5l.94-2.06 2.06-.94-2.06-.94L8.5 2.5l-.94 2.06-2.06.94zm10 10l.94 2.06.94-2.06 2.06-.94-2.06-.94-.94-2.06-.94 2.06-2.06.94z\"/><path d=\"M17.41 7.96l-1.37-1.37c-.4-.4-.92-.59-1.43-.59-.52 0-1.04.2-1.43.59L10.3 9.45l-7.72 7.72c-.78.78-.78 2.05 0 2.83L4 21.41c.39.39.9.59 1.41.59.51 0 1.02-.2 1.41-.59l7.78-7.78 2.81-2.81c.8-.78.8-2.07 0-2.86zM5.41 20L4 18.59l7.72-7.72 1.47 1.35L5.41 20z\"/>\n",
              "  </svg>\n",
              "      </button>\n",
              "      \n",
              "  <style>\n",
              "    .colab-df-container {\n",
              "      display:flex;\n",
              "      flex-wrap:wrap;\n",
              "      gap: 12px;\n",
              "    }\n",
              "\n",
              "    .colab-df-convert {\n",
              "      background-color: #E8F0FE;\n",
              "      border: none;\n",
              "      border-radius: 50%;\n",
              "      cursor: pointer;\n",
              "      display: none;\n",
              "      fill: #1967D2;\n",
              "      height: 32px;\n",
              "      padding: 0 0 0 0;\n",
              "      width: 32px;\n",
              "    }\n",
              "\n",
              "    .colab-df-convert:hover {\n",
              "      background-color: #E2EBFA;\n",
              "      box-shadow: 0px 1px 2px rgba(60, 64, 67, 0.3), 0px 1px 3px 1px rgba(60, 64, 67, 0.15);\n",
              "      fill: #174EA6;\n",
              "    }\n",
              "\n",
              "    [theme=dark] .colab-df-convert {\n",
              "      background-color: #3B4455;\n",
              "      fill: #D2E3FC;\n",
              "    }\n",
              "\n",
              "    [theme=dark] .colab-df-convert:hover {\n",
              "      background-color: #434B5C;\n",
              "      box-shadow: 0px 1px 3px 1px rgba(0, 0, 0, 0.15);\n",
              "      filter: drop-shadow(0px 1px 2px rgba(0, 0, 0, 0.3));\n",
              "      fill: #FFFFFF;\n",
              "    }\n",
              "  </style>\n",
              "\n",
              "      <script>\n",
              "        const buttonEl =\n",
              "          document.querySelector('#df-36b55499-efb5-4d52-b794-08c9f0cd16f3 button.colab-df-convert');\n",
              "        buttonEl.style.display =\n",
              "          google.colab.kernel.accessAllowed ? 'block' : 'none';\n",
              "\n",
              "        async function convertToInteractive(key) {\n",
              "          const element = document.querySelector('#df-36b55499-efb5-4d52-b794-08c9f0cd16f3');\n",
              "          const dataTable =\n",
              "            await google.colab.kernel.invokeFunction('convertToInteractive',\n",
              "                                                     [key], {});\n",
              "          if (!dataTable) return;\n",
              "\n",
              "          const docLinkHtml = 'Like what you see? Visit the ' +\n",
              "            '<a target=\"_blank\" href=https://colab.research.google.com/notebooks/data_table.ipynb>data table notebook</a>'\n",
              "            + ' to learn more about interactive tables.';\n",
              "          element.innerHTML = '';\n",
              "          dataTable['output_type'] = 'display_data';\n",
              "          await google.colab.output.renderOutput(dataTable, element);\n",
              "          const docLink = document.createElement('div');\n",
              "          docLink.innerHTML = docLinkHtml;\n",
              "          element.appendChild(docLink);\n",
              "        }\n",
              "      </script>\n",
              "    </div>\n",
              "  </div>\n",
              "  "
            ],
            "text/plain": [
              "    age  sex   cp trestbps chol fbs  ... exang oldpeak slope   ca thal num\n",
              "0  63.0  1.0  1.0      145  233   1  ...     0     2.3     3  0.0  6.0   0\n",
              "1  67.0  1.0  4.0      160  286   0  ...     1     1.5     2  3.0  3.0   2\n",
              "2  67.0  1.0  4.0      120  229   0  ...     1     2.6     2  2.0  7.0   1\n",
              "3  37.0  1.0  3.0      130  250   0  ...     0     3.5     3  0.0  3.0   0\n",
              "4  41.0  0.0  2.0      130  204   0  ...     0     1.4     1  0.0  3.0   0\n",
              "\n",
              "[5 rows x 14 columns]"
            ]
          },
          "metadata": {},
          "execution_count": 3
        }
      ]
    },
    {
      "cell_type": "markdown",
      "source": [
        "### **Tipos das variáveis**\n"
      ],
      "metadata": {
        "id": "bxbIp1TutSX2"
      }
    },
    {
      "cell_type": "markdown",
      "source": [
        "Visualizando as informações dos dados, percebemos que as colunas possuíam tipos diferentes, então, para facilitar a manipulação dos dados, todos os dados passaram a ser do tipo \"float\"."
      ],
      "metadata": {
        "id": "as6H4rrmtlq1"
      }
    },
    {
      "cell_type": "code",
      "metadata": {
        "id": "_Etdv9SuaWmQ",
        "colab": {
          "base_uri": "https://localhost:8080/"
        },
        "outputId": "1a82657f-7c49-4f4e-c4e1-ee91f28d2f3a"
      },
      "source": [
        "df.info() # visualizando informações da tabela"
      ],
      "execution_count": 4,
      "outputs": [
        {
          "output_type": "stream",
          "name": "stdout",
          "text": [
            "<class 'pandas.core.frame.DataFrame'>\n",
            "RangeIndex: 920 entries, 0 to 919\n",
            "Data columns (total 14 columns):\n",
            " #   Column    Non-Null Count  Dtype  \n",
            "---  ------    --------------  -----  \n",
            " 0   age       920 non-null    float64\n",
            " 1   sex       920 non-null    float64\n",
            " 2   cp        920 non-null    float64\n",
            " 3   trestbps  861 non-null    object \n",
            " 4   chol      890 non-null    object \n",
            " 5   fbs       830 non-null    object \n",
            " 6   restcg    918 non-null    object \n",
            " 7   thalach   865 non-null    object \n",
            " 8   exang     865 non-null    object \n",
            " 9   oldpeak   858 non-null    object \n",
            " 10  slope     611 non-null    object \n",
            " 11  ca        309 non-null    object \n",
            " 12  thal      434 non-null    object \n",
            " 13  num       920 non-null    int64  \n",
            "dtypes: float64(3), int64(1), object(10)\n",
            "memory usage: 100.8+ KB\n"
          ]
        }
      ]
    },
    {
      "cell_type": "code",
      "metadata": {
        "id": "opkKLNIMvlKC"
      },
      "source": [
        "for i in df.columns:\n",
        "  df[i] = pd.to_numeric(df[i],downcast='float') # convertendo todas as colunas para o tipo float"
      ],
      "execution_count": 5,
      "outputs": []
    },
    {
      "cell_type": "code",
      "metadata": {
        "id": "LyfnkUmmxgFV",
        "colab": {
          "base_uri": "https://localhost:8080/"
        },
        "outputId": "1b4fb7cf-2150-463d-ec13-3e80fb5d59a3"
      },
      "source": [
        "df.info() # visualizando novamente as informações da tabela"
      ],
      "execution_count": 6,
      "outputs": [
        {
          "output_type": "stream",
          "name": "stdout",
          "text": [
            "<class 'pandas.core.frame.DataFrame'>\n",
            "RangeIndex: 920 entries, 0 to 919\n",
            "Data columns (total 14 columns):\n",
            " #   Column    Non-Null Count  Dtype  \n",
            "---  ------    --------------  -----  \n",
            " 0   age       920 non-null    float32\n",
            " 1   sex       920 non-null    float32\n",
            " 2   cp        920 non-null    float32\n",
            " 3   trestbps  861 non-null    float32\n",
            " 4   chol      890 non-null    float32\n",
            " 5   fbs       830 non-null    float32\n",
            " 6   restcg    918 non-null    float32\n",
            " 7   thalach   865 non-null    float32\n",
            " 8   exang     865 non-null    float32\n",
            " 9   oldpeak   858 non-null    float32\n",
            " 10  slope     611 non-null    float32\n",
            " 11  ca        309 non-null    float32\n",
            " 12  thal      434 non-null    float32\n",
            " 13  num       920 non-null    float32\n",
            "dtypes: float32(14)\n",
            "memory usage: 50.4 KB\n"
          ]
        }
      ]
    },
    {
      "cell_type": "markdown",
      "source": [
        "### **Valores ausentes e outliers**"
      ],
      "metadata": {
        "id": "sAxrqUvavn25"
      }
    },
    {
      "cell_type": "markdown",
      "source": [
        "Ao visualizar as informações da tabela, percebe-se que várias colunas possuem dados com valores que destoam muito dos demais e podem causar anomalias nos resultados obtidos, são os chamados *outliers*. Para resolver esse problema, todas as linhas da tabela que estejam a uma distância superior a 3 desvios padrão da média foram removidas.\n",
        "\n",
        "No entanto, mesmo após essa remoção, algumas colunas possuíam valores inválidos. Por exemplo, a coluna que indica o colesterol total (\"chol\") possuía diversas linhas com valor \"0\", no entanto, não é possível ter valores tão baixos de colesterol. Por isso, substituímos estas linhas inválidas pela média de todos os valores da coluna. \n",
        "\n",
        "Além disso, a coluna que indicava o diagnóstico para doenças cardíacas (“num”) deveria possuir apenas valores binários (0 ou 1), mas nela existiam dados que não correspondiam a essa característica. Então, todas as linhas com esses valores inválidos foram removidas."
      ],
      "metadata": {
        "id": "2sMJZxYiYN-g"
      }
    },
    {
      "cell_type": "code",
      "metadata": {
        "id": "70g3QFj3s0X5",
        "colab": {
          "base_uri": "https://localhost:8080/",
          "height": 1000
        },
        "outputId": "be99e76b-6a06-4903-b10e-aa102c15432c"
      },
      "source": [
        "# visualizando os dados em boxplots\n",
        "palette = [\"#ff8c00\", \"#ffb268\", \"#ffd8b3\", \"#ffecd8\"]\n",
        "\n",
        "mask1 = ['age', 'trestbps','chol','thalach']\n",
        "mask2 = ['oldpeak','ca', 'sex', 'cp', 'fbs', 'restcg','slope','thal', 'exang']\n",
        "df1 = df[mask1]\n",
        "df2 = df[mask2]\n",
        "boxplot1 = df1.boxplot(figsize=(7,8), color=dict(boxes=palette[0], whiskers=palette[0], medians='r', caps=palette[0]))\n",
        "plt.show()\n",
        "boxplot2 = df2.boxplot(figsize=(11,8), color=dict(boxes=palette[0], whiskers=palette[0], medians='r', caps=palette[0]))\n",
        "plt.show()"
      ],
      "execution_count": 7,
      "outputs": [
        {
          "output_type": "stream",
          "name": "stderr",
          "text": [
            "/usr/local/lib/python3.7/dist-packages/numpy/core/_asarray.py:83: VisibleDeprecationWarning: Creating an ndarray from ragged nested sequences (which is a list-or-tuple of lists-or-tuples-or ndarrays with different lengths or shapes) is deprecated. If you meant to do this, you must specify 'dtype=object' when creating the ndarray\n",
            "  return array(a, dtype, copy=False, order=order)\n"
          ]
        },
        {
          "output_type": "display_data",
          "data": {
            "image/png": "[encoded data removed]",
            "text/plain": [
              "<Figure size 504x576 with 1 Axes>"
            ]
          },
          "metadata": {
            "needs_background": "light"
          }
        },
        {
          "output_type": "stream",
          "name": "stderr",
          "text": [
            "/usr/local/lib/python3.7/dist-packages/numpy/core/_asarray.py:83: VisibleDeprecationWarning: Creating an ndarray from ragged nested sequences (which is a list-or-tuple of lists-or-tuples-or ndarrays with different lengths or shapes) is deprecated. If you meant to do this, you must specify 'dtype=object' when creating the ndarray\n",
            "  return array(a, dtype, copy=False, order=order)\n"
          ]
        },
        {
          "output_type": "display_data",
          "data": {
            "image/png": "[encoded data removed]",
            "text/plain": [
              "<Figure size 792x576 with 1 Axes>"
            ]
          },
          "metadata": {
            "needs_background": "light"
          }
        }
      ]
    },
    {
      "cell_type": "code",
      "metadata": {
        "id": "pj2UCke8s9JZ",
        "colab": {
          "base_uri": "https://localhost:8080/",
          "height": 623
        },
        "outputId": "d72a93aa-fefd-49ad-ed68-c0db14ba6780"
      },
      "source": [
        "# remoção de outliers\n",
        "z_scores = np.abs(stats.zscore(df,nan_policy='omit'))\n",
        "filtered_entries = (z_scores < 3).all(axis=1)\n",
        "df = df[filtered_entries]\n",
        "\n",
        "# visualizando os dados em boxplots após a remoção\n",
        "df1 = df[mask1]\n",
        "df2 = df[mask2]\n",
        "boxplot1 = df1.boxplot(figsize=(6,5), color=dict(boxes=palette[0], whiskers=palette[0], medians='r', caps=palette[0]))\n",
        "plt.show()\n",
        "boxplot2 = df2.boxplot(figsize=(10,5), color=dict(boxes=palette[0], whiskers=palette[0], medians='r', caps=palette[0]))\n",
        "plt.show()"
      ],
      "execution_count": 8,
      "outputs": [
        {
          "output_type": "display_data",
          "data": {
            "image/png": "[encoded data removed]",
            "text/plain": [
              "<Figure size 432x360 with 1 Axes>"
            ]
          },
          "metadata": {
            "needs_background": "light"
          }
        },
        {
          "output_type": "display_data",
          "data": {
            "image/png": "[encoded data removed]",
            "text/plain": [
              "<Figure size 720x360 with 1 Axes>"
            ]
          },
          "metadata": {
            "needs_background": "light"
          }
        }
      ]
    },
    {
      "cell_type": "code",
      "metadata": {
        "id": "DECeUudh6Sgo"
      },
      "source": [
        "def transform_mean(x):\n",
        "  mean = df[x].mean()\n",
        "  df.loc[df[x]==0,x] = mean\n",
        "\n",
        "transform_mean('chol') # alterando colesterol sérico de valor 0 para a média"
      ],
      "execution_count": 9,
      "outputs": []
    },
    {
      "cell_type": "code",
      "source": [
        "df.loc[df['num']>1,'num'] = np.nan # transformando valores não booleanos em NaN, para remover posteriormente\n"
      ],
      "metadata": {
        "id": "KfG-0AlprRaP"
      },
      "execution_count": 10,
      "outputs": []
    },
    {
      "cell_type": "markdown",
      "source": [
        "Além disso, percebe-se que várias colunas possuem valores faltando. Para tratar esse problema, separamos os dados em dois tipos: categóricos e numéricos."
      ],
      "metadata": {
        "id": "vWYXZqS1v4tw"
      }
    },
    {
      "cell_type": "markdown",
      "source": [
        "*  **Dados Numéricos** \n",
        "\n"
      ],
      "metadata": {
        "id": "rxz7U5RAzKy2"
      }
    },
    {
      "cell_type": "markdown",
      "source": [
        "Os dados numéricos ausentes foram substituídos pela média dos dados da coluna."
      ],
      "metadata": {
        "id": "W3qWNZKMy8M1"
      }
    },
    {
      "cell_type": "code",
      "metadata": {
        "id": "JurdKTb8yudQ"
      },
      "source": [
        "numData = ['age', 'trestbps','chol','thalach','oldpeak','ca' ] # colunas cujos dados são numéricos\n",
        "for i in numData:\n",
        "  mean = df[i].mean()  # cálculo da média da coluna\n",
        "  df[i] = df[i].fillna(mean) # substituindo valores NaN pela média"
      ],
      "execution_count": 11,
      "outputs": []
    },
    {
      "cell_type": "markdown",
      "source": [
        "* **Dados categóricos**"
      ],
      "metadata": {
        "id": "ot7llpxxhvCn"
      }
    },
    {
      "cell_type": "markdown",
      "source": [
        "Os dados categóricos ausentes foram substituídos pelo valor mais frequente (moda)."
      ],
      "metadata": {
        "id": "2KNAeBHBjJAM"
      }
    },
    {
      "cell_type": "code",
      "source": [
        "catData = ['sex', 'cp', 'fbs', 'restcg','slope','thal', 'exang']  # colunas cujos dados são categóricos, exceto a coluna de diagnóstico (\"num\")\n",
        "for i in catData:\n",
        "  mode = df[i].mode() # cálculo da moda da coluna\n",
        "  df[i] = df[i].fillna(mode) # substituindo valores NaN pela moda"
      ],
      "metadata": {
        "id": "M3iBh39Mjb80"
      },
      "execution_count": 12,
      "outputs": []
    },
    {
      "cell_type": "code",
      "source": [
        "df = df.dropna() # removendo os valores não booleanos da coluna 'num' que foram transformados em NaN"
      ],
      "metadata": {
        "id": "K_pD2ImNvdon"
      },
      "execution_count": 13,
      "outputs": []
    },
    {
      "cell_type": "code",
      "source": [
        "df"
      ],
      "metadata": {
        "colab": {
          "base_uri": "https://localhost:8080/",
          "height": 423
        },
        "id": "7JdXJcMxwz1f",
        "outputId": "0058c7fd-4f87-44d3-c1f7-b56191f8f6b6"
      },
      "execution_count": 14,
      "outputs": [
        {
          "output_type": "execute_result",
          "data": {
            "text/html": [
              "\n",
              "  <div id=\"df-21a3dc99-4ba4-4f73-b525-07272b81e81b\">\n",
              "    <div class=\"colab-df-container\">\n",
              "      <div>\n",
              "<style scoped>\n",
              "    .dataframe tbody tr th:only-of-type {\n",
              "        vertical-align: middle;\n",
              "    }\n",
              "\n",
              "    .dataframe tbody tr th {\n",
              "        vertical-align: top;\n",
              "    }\n",
              "\n",
              "    .dataframe thead th {\n",
              "        text-align: right;\n",
              "    }\n",
              "</style>\n",
              "<table border=\"1\" class=\"dataframe\">\n",
              "  <thead>\n",
              "    <tr style=\"text-align: right;\">\n",
              "      <th></th>\n",
              "      <th>age</th>\n",
              "      <th>sex</th>\n",
              "      <th>cp</th>\n",
              "      <th>trestbps</th>\n",
              "      <th>chol</th>\n",
              "      <th>fbs</th>\n",
              "      <th>restcg</th>\n",
              "      <th>thalach</th>\n",
              "      <th>exang</th>\n",
              "      <th>oldpeak</th>\n",
              "      <th>slope</th>\n",
              "      <th>ca</th>\n",
              "      <th>thal</th>\n",
              "      <th>num</th>\n",
              "    </tr>\n",
              "  </thead>\n",
              "  <tbody>\n",
              "    <tr>\n",
              "      <th>0</th>\n",
              "      <td>63.0</td>\n",
              "      <td>1.0</td>\n",
              "      <td>1.0</td>\n",
              "      <td>145.0</td>\n",
              "      <td>233.0</td>\n",
              "      <td>1.0</td>\n",
              "      <td>2.0</td>\n",
              "      <td>150.0</td>\n",
              "      <td>0.0</td>\n",
              "      <td>2.3</td>\n",
              "      <td>3.0</td>\n",
              "      <td>0.0</td>\n",
              "      <td>6.0</td>\n",
              "      <td>0.0</td>\n",
              "    </tr>\n",
              "    <tr>\n",
              "      <th>2</th>\n",
              "      <td>67.0</td>\n",
              "      <td>1.0</td>\n",
              "      <td>4.0</td>\n",
              "      <td>120.0</td>\n",
              "      <td>229.0</td>\n",
              "      <td>0.0</td>\n",
              "      <td>2.0</td>\n",
              "      <td>129.0</td>\n",
              "      <td>1.0</td>\n",
              "      <td>2.6</td>\n",
              "      <td>2.0</td>\n",
              "      <td>2.0</td>\n",
              "      <td>7.0</td>\n",
              "      <td>1.0</td>\n",
              "    </tr>\n",
              "    <tr>\n",
              "      <th>3</th>\n",
              "      <td>37.0</td>\n",
              "      <td>1.0</td>\n",
              "      <td>3.0</td>\n",
              "      <td>130.0</td>\n",
              "      <td>250.0</td>\n",
              "      <td>0.0</td>\n",
              "      <td>0.0</td>\n",
              "      <td>187.0</td>\n",
              "      <td>0.0</td>\n",
              "      <td>3.5</td>\n",
              "      <td>3.0</td>\n",
              "      <td>0.0</td>\n",
              "      <td>3.0</td>\n",
              "      <td>0.0</td>\n",
              "    </tr>\n",
              "    <tr>\n",
              "      <th>4</th>\n",
              "      <td>41.0</td>\n",
              "      <td>0.0</td>\n",
              "      <td>2.0</td>\n",
              "      <td>130.0</td>\n",
              "      <td>204.0</td>\n",
              "      <td>0.0</td>\n",
              "      <td>2.0</td>\n",
              "      <td>172.0</td>\n",
              "      <td>0.0</td>\n",
              "      <td>1.4</td>\n",
              "      <td>1.0</td>\n",
              "      <td>0.0</td>\n",
              "      <td>3.0</td>\n",
              "      <td>0.0</td>\n",
              "    </tr>\n",
              "    <tr>\n",
              "      <th>5</th>\n",
              "      <td>56.0</td>\n",
              "      <td>1.0</td>\n",
              "      <td>2.0</td>\n",
              "      <td>120.0</td>\n",
              "      <td>236.0</td>\n",
              "      <td>0.0</td>\n",
              "      <td>0.0</td>\n",
              "      <td>178.0</td>\n",
              "      <td>0.0</td>\n",
              "      <td>0.8</td>\n",
              "      <td>1.0</td>\n",
              "      <td>0.0</td>\n",
              "      <td>3.0</td>\n",
              "      <td>0.0</td>\n",
              "    </tr>\n",
              "    <tr>\n",
              "      <th>...</th>\n",
              "      <td>...</td>\n",
              "      <td>...</td>\n",
              "      <td>...</td>\n",
              "      <td>...</td>\n",
              "      <td>...</td>\n",
              "      <td>...</td>\n",
              "      <td>...</td>\n",
              "      <td>...</td>\n",
              "      <td>...</td>\n",
              "      <td>...</td>\n",
              "      <td>...</td>\n",
              "      <td>...</td>\n",
              "      <td>...</td>\n",
              "      <td>...</td>\n",
              "    </tr>\n",
              "    <tr>\n",
              "      <th>297</th>\n",
              "      <td>57.0</td>\n",
              "      <td>0.0</td>\n",
              "      <td>4.0</td>\n",
              "      <td>140.0</td>\n",
              "      <td>241.0</td>\n",
              "      <td>0.0</td>\n",
              "      <td>0.0</td>\n",
              "      <td>123.0</td>\n",
              "      <td>1.0</td>\n",
              "      <td>0.2</td>\n",
              "      <td>2.0</td>\n",
              "      <td>0.0</td>\n",
              "      <td>7.0</td>\n",
              "      <td>1.0</td>\n",
              "    </tr>\n",
              "    <tr>\n",
              "      <th>298</th>\n",
              "      <td>45.0</td>\n",
              "      <td>1.0</td>\n",
              "      <td>1.0</td>\n",
              "      <td>110.0</td>\n",
              "      <td>264.0</td>\n",
              "      <td>0.0</td>\n",
              "      <td>0.0</td>\n",
              "      <td>132.0</td>\n",
              "      <td>0.0</td>\n",
              "      <td>1.2</td>\n",
              "      <td>2.0</td>\n",
              "      <td>0.0</td>\n",
              "      <td>7.0</td>\n",
              "      <td>1.0</td>\n",
              "    </tr>\n",
              "    <tr>\n",
              "      <th>301</th>\n",
              "      <td>57.0</td>\n",
              "      <td>0.0</td>\n",
              "      <td>2.0</td>\n",
              "      <td>130.0</td>\n",
              "      <td>236.0</td>\n",
              "      <td>0.0</td>\n",
              "      <td>2.0</td>\n",
              "      <td>174.0</td>\n",
              "      <td>0.0</td>\n",
              "      <td>0.0</td>\n",
              "      <td>2.0</td>\n",
              "      <td>1.0</td>\n",
              "      <td>3.0</td>\n",
              "      <td>1.0</td>\n",
              "    </tr>\n",
              "    <tr>\n",
              "      <th>508</th>\n",
              "      <td>47.0</td>\n",
              "      <td>1.0</td>\n",
              "      <td>4.0</td>\n",
              "      <td>150.0</td>\n",
              "      <td>226.0</td>\n",
              "      <td>0.0</td>\n",
              "      <td>0.0</td>\n",
              "      <td>98.0</td>\n",
              "      <td>1.0</td>\n",
              "      <td>1.5</td>\n",
              "      <td>2.0</td>\n",
              "      <td>0.0</td>\n",
              "      <td>7.0</td>\n",
              "      <td>1.0</td>\n",
              "    </tr>\n",
              "    <tr>\n",
              "      <th>748</th>\n",
              "      <td>56.0</td>\n",
              "      <td>1.0</td>\n",
              "      <td>4.0</td>\n",
              "      <td>120.0</td>\n",
              "      <td>100.0</td>\n",
              "      <td>0.0</td>\n",
              "      <td>0.0</td>\n",
              "      <td>120.0</td>\n",
              "      <td>1.0</td>\n",
              "      <td>1.5</td>\n",
              "      <td>2.0</td>\n",
              "      <td>0.0</td>\n",
              "      <td>7.0</td>\n",
              "      <td>1.0</td>\n",
              "    </tr>\n",
              "  </tbody>\n",
              "</table>\n",
              "<p>213 rows × 14 columns</p>\n",
              "</div>\n",
              "      <button class=\"colab-df-convert\" onclick=\"convertToInteractive('df-21a3dc99-4ba4-4f73-b525-07272b81e81b')\"\n",
              "              title=\"Convert this dataframe to an interactive table.\"\n",
              "              style=\"display:none;\">\n",
              "        \n",
              "  <svg xmlns=\"http://www.w3.org/2000/svg\" height=\"24px\"viewBox=\"0 0 24 24\"\n",
              "       width=\"24px\">\n",
              "    <path d=\"M0 0h24v24H0V0z\" fill=\"none\"/>\n",
              "    <path d=\"M18.56 5.44l.94 2.06.94-2.06 2.06-.94-2.06-.94-.94-2.06-.94 2.06-2.06.94zm-11 1L8.5 8.5l.94-2.06 2.06-.94-2.06-.94L8.5 2.5l-.94 2.06-2.06.94zm10 10l.94 2.06.94-2.06 2.06-.94-2.06-.94-.94-2.06-.94 2.06-2.06.94z\"/><path d=\"M17.41 7.96l-1.37-1.37c-.4-.4-.92-.59-1.43-.59-.52 0-1.04.2-1.43.59L10.3 9.45l-7.72 7.72c-.78.78-.78 2.05 0 2.83L4 21.41c.39.39.9.59 1.41.59.51 0 1.02-.2 1.41-.59l7.78-7.78 2.81-2.81c.8-.78.8-2.07 0-2.86zM5.41 20L4 18.59l7.72-7.72 1.47 1.35L5.41 20z\"/>\n",
              "  </svg>\n",
              "      </button>\n",
              "      \n",
              "  <style>\n",
              "    .colab-df-container {\n",
              "      display:flex;\n",
              "      flex-wrap:wrap;\n",
              "      gap: 12px;\n",
              "    }\n",
              "\n",
              "    .colab-df-convert {\n",
              "      background-color: #E8F0FE;\n",
              "      border: none;\n",
              "      border-radius: 50%;\n",
              "      cursor: pointer;\n",
              "      display: none;\n",
              "      fill: #1967D2;\n",
              "      height: 32px;\n",
              "      padding: 0 0 0 0;\n",
              "      width: 32px;\n",
              "    }\n",
              "\n",
              "    .colab-df-convert:hover {\n",
              "      background-color: #E2EBFA;\n",
              "      box-shadow: 0px 1px 2px rgba(60, 64, 67, 0.3), 0px 1px 3px 1px rgba(60, 64, 67, 0.15);\n",
              "      fill: #174EA6;\n",
              "    }\n",
              "\n",
              "    [theme=dark] .colab-df-convert {\n",
              "      background-color: #3B4455;\n",
              "      fill: #D2E3FC;\n",
              "    }\n",
              "\n",
              "    [theme=dark] .colab-df-convert:hover {\n",
              "      background-color: #434B5C;\n",
              "      box-shadow: 0px 1px 3px 1px rgba(0, 0, 0, 0.15);\n",
              "      filter: drop-shadow(0px 1px 2px rgba(0, 0, 0, 0.3));\n",
              "      fill: #FFFFFF;\n",
              "    }\n",
              "  </style>\n",
              "\n",
              "      <script>\n",
              "        const buttonEl =\n",
              "          document.querySelector('#df-21a3dc99-4ba4-4f73-b525-07272b81e81b button.colab-df-convert');\n",
              "        buttonEl.style.display =\n",
              "          google.colab.kernel.accessAllowed ? 'block' : 'none';\n",
              "\n",
              "        async function convertToInteractive(key) {\n",
              "          const element = document.querySelector('#df-21a3dc99-4ba4-4f73-b525-07272b81e81b');\n",
              "          const dataTable =\n",
              "            await google.colab.kernel.invokeFunction('convertToInteractive',\n",
              "                                                     [key], {});\n",
              "          if (!dataTable) return;\n",
              "\n",
              "          const docLinkHtml = 'Like what you see? Visit the ' +\n",
              "            '<a target=\"_blank\" href=https://colab.research.google.com/notebooks/data_table.ipynb>data table notebook</a>'\n",
              "            + ' to learn more about interactive tables.';\n",
              "          element.innerHTML = '';\n",
              "          dataTable['output_type'] = 'display_data';\n",
              "          await google.colab.output.renderOutput(dataTable, element);\n",
              "          const docLink = document.createElement('div');\n",
              "          docLink.innerHTML = docLinkHtml;\n",
              "          element.appendChild(docLink);\n",
              "        }\n",
              "      </script>\n",
              "    </div>\n",
              "  </div>\n",
              "  "
            ],
            "text/plain": [
              "      age  sex   cp  trestbps   chol  ...  oldpeak  slope   ca  thal  num\n",
              "0    63.0  1.0  1.0     145.0  233.0  ...      2.3    3.0  0.0   6.0  0.0\n",
              "2    67.0  1.0  4.0     120.0  229.0  ...      2.6    2.0  2.0   7.0  1.0\n",
              "3    37.0  1.0  3.0     130.0  250.0  ...      3.5    3.0  0.0   3.0  0.0\n",
              "4    41.0  0.0  2.0     130.0  204.0  ...      1.4    1.0  0.0   3.0  0.0\n",
              "5    56.0  1.0  2.0     120.0  236.0  ...      0.8    1.0  0.0   3.0  0.0\n",
              "..    ...  ...  ...       ...    ...  ...      ...    ...  ...   ...  ...\n",
              "297  57.0  0.0  4.0     140.0  241.0  ...      0.2    2.0  0.0   7.0  1.0\n",
              "298  45.0  1.0  1.0     110.0  264.0  ...      1.2    2.0  0.0   7.0  1.0\n",
              "301  57.0  0.0  2.0     130.0  236.0  ...      0.0    2.0  1.0   3.0  1.0\n",
              "508  47.0  1.0  4.0     150.0  226.0  ...      1.5    2.0  0.0   7.0  1.0\n",
              "748  56.0  1.0  4.0     120.0  100.0  ...      1.5    2.0  0.0   7.0  1.0\n",
              "\n",
              "[213 rows x 14 columns]"
            ]
          },
          "metadata": {},
          "execution_count": 14
        }
      ]
    },
    {
      "cell_type": "markdown",
      "source": [
        "### **Representação gráfica dos dados**"
      ],
      "metadata": {
        "id": "3FDejt8shy_L"
      }
    },
    {
      "cell_type": "markdown",
      "source": [
        "Afim de visualizar melhor as distribuições dos dados, representamos graficamente cada uma das colunas do conjunto de dados. Para fazer essa representação gráfica, foi mantida a divisão entre dados numéricos e categóricos. Os dados numéricos foram representados por gráfico de barras e os dados categóricos em gráfico do tipo pizza."
      ],
      "metadata": {
        "id": "h15CNPiBaapQ"
      }
    },
    {
      "cell_type": "code",
      "metadata": {
        "id": "XIhrXP7C7QGT",
        "colab": {
          "base_uri": "https://localhost:8080/",
          "height": 1000
        },
        "outputId": "aaff5249-7ffc-4dd3-cc02-87ed860e7f69"
      },
      "source": [
        "# dados numéricos\n",
        "for i in numData:\n",
        "  sns.displot(df[i], kde=True, color=\"orange\") # representando dados numéricos em gráfico de barras"
      ],
      "execution_count": 15,
      "outputs": [
        {
          "output_type": "display_data",
          "data": {
            "image/png": "[encoded data removed]",
            "text/plain": [
              "<Figure size 360x360 with 1 Axes>"
            ]
          },
          "metadata": {
            "needs_background": "light"
          }
        },
        {
          "output_type": "display_data",
          "data": {
            "image/png": "[encoded data removed]",
            "text/plain": [
              "<Figure size 360x360 with 1 Axes>"
            ]
          },
          "metadata": {
            "needs_background": "light"
          }
        },
        {
          "output_type": "display_data",
          "data": {
            "image/png": "[encoded data removed]",
            "text/plain": [
              "<Figure size 360x360 with 1 Axes>"
            ]
          },
          "metadata": {
            "needs_background": "light"
          }
        },
        {
          "output_type": "display_data",
          "data": {
            "image/png": "[encoded data removed]",
            "text/plain": [
              "<Figure size 360x360 with 1 Axes>"
            ]
          },
          "metadata": {
            "needs_background": "light"
          }
        },
        {
          "output_type": "display_data",
          "data": {
            "image/png": "[encoded data removed]",
            "text/plain": [
              "<Figure size 360x360 with 1 Axes>"
            ]
          },
          "metadata": {
            "needs_background": "light"
          }
        },
        {
          "output_type": "display_data",
          "data": {
            "image/png": "[encoded data removed]",
            "text/plain": [
              "<Figure size 360x360 with 1 Axes>"
            ]
          },
          "metadata": {
            "needs_background": "light"
          }
        }
      ]
    },
    {
      "cell_type": "code",
      "metadata": {
        "id": "TkVNUGUqpS5f",
        "colab": {
          "base_uri": "https://localhost:8080/",
          "height": 1000
        },
        "outputId": "00157569-c892-4ccc-d65d-d4485de816b5"
      },
      "source": [
        "# dados categóricos\n",
        "for i in catData:\n",
        "  df[i].value_counts().plot(kind='pie', autopct='%.2f%%', colors=palette)  # representando dados categóricos em gráfico de pizza\n",
        "  plt.axis('equal')\n",
        "  plt.show()"
      ],
      "execution_count": 16,
      "outputs": [
        {
          "output_type": "display_data",
          "data": {
            "image/png": "[encoded data removed]",
            "text/plain": [
              "<Figure size 432x288 with 1 Axes>"
            ]
          },
          "metadata": {}
        },
        {
          "output_type": "display_data",
          "data": {
            "image/png": "[encoded data removed]",
            "text/plain": [
              "<Figure size 432x288 with 1 Axes>"
            ]
          },
          "metadata": {}
        },
        {
          "output_type": "display_data",
          "data": {
            "image/png": "[encoded data removed]",
            "text/plain": [
              "<Figure size 432x288 with 1 Axes>"
            ]
          },
          "metadata": {}
        },
        {
          "output_type": "display_data",
          "data": {
            "image/png": "[encoded data removed]",
            "text/plain": [
              "<Figure size 432x288 with 1 Axes>"
            ]
          },
          "metadata": {}
        },
        {
          "output_type": "display_data",
          "data": {
            "image/png": "[encoded data removed]",
            "text/plain": [
              "<Figure size 432x288 with 1 Axes>"
            ]
          },
          "metadata": {}
        },
        {
          "output_type": "display_data",
          "data": {
            "image/png": "[encoded data removed]",
            "text/plain": [
              "<Figure size 432x288 with 1 Axes>"
            ]
          },
          "metadata": {}
        },
        {
          "output_type": "display_data",
          "data": {
            "image/png": "[encoded data removed]",
            "text/plain": [
              "<Figure size 432x288 with 1 Axes>"
            ]
          },
          "metadata": {}
        }
      ]
    },
    {
      "cell_type": "markdown",
      "source": [
        "## **Análise Estatística**"
      ],
      "metadata": {
        "id": "wjxhMeGAlLi1"
      }
    },
    {
      "cell_type": "markdown",
      "source": [
        "Para entender melhor as características dos pacientes com diagnóstico positivo para doença cardíaca, fizemos algumas análises sobre os dados. \n",
        "\n",
        "Para isso, filtramos do *Data Set* apenas esses pacientes e visualizamos a maneira que eles estão dispostos por sexo, idade, frequência cardíaca e pressão sanguínea, além de identificar a média dessas três últimas categorias."
      ],
      "metadata": {
        "id": "usuIGhH2bCOJ"
      }
    },
    {
      "cell_type": "code",
      "source": [
        "# filtrando os que têm diagnóstico positivo\n",
        "filter = (df['num']==1)\n",
        "positive = df.loc[filter]"
      ],
      "metadata": {
        "id": "qC1d8a7O6HvM"
      },
      "execution_count": 17,
      "outputs": []
    },
    {
      "cell_type": "code",
      "source": [
        "# cálculo da média de idade\n",
        "meanAge = positive['age'].mean()\n",
        "print(\"A média de idade das pessoas com diagnóstico positivo de doença cardíaca é\", f'{meanAge:.2f}',\"anos\")\n",
        "\n",
        "# exibindo em um gráfico a distribuição por idade e a média\n",
        "sns.displot(positive['age'], kde=True, color=\"orange\")\n",
        "plt.plot(meanAge, 12.5, \"o\", color='red')\n",
        "plt.plot([meanAge, meanAge], [0, 12.5], 'r--', lw=1, color='red')\n",
        "plt.plot([30, meanAge], [12.5, 12.5], 'r--', lw=1, color='red')\n",
        "plt.xlabel(\"Idade\")\n",
        "plt.ylabel(\"Quantidade\")\n",
        "plt.title('Diagnósticos positivos por idade')\n",
        "plt.show()"
      ],
      "metadata": {
        "colab": {
          "base_uri": "https://localhost:8080/",
          "height": 402
        },
        "id": "DLIyEGfRlO5Z",
        "outputId": "1f7e763e-046e-4a44-cb49-e6205a08c18d"
      },
      "execution_count": 18,
      "outputs": [
        {
          "output_type": "stream",
          "name": "stdout",
          "text": [
            "A média de idade das pessoas com diagnóstico positivo de doença cardíaca é 55.49 anos\n"
          ]
        },
        {
          "output_type": "display_data",
          "data": {
            "image/png": "[encoded data removed]",
            "text/plain": [
              "<Figure size 360x360 with 1 Axes>"
            ]
          },
          "metadata": {
            "needs_background": "light"
          }
        }
      ]
    },
    {
      "cell_type": "code",
      "source": [
        "# cálculo da média de frequência cardíaca máxima\n",
        "meanThalach = positive['thalach'].mean()\n",
        "print(\"A média da frequência cardíaca máxima das pessoas com diagnóstico positivo de doença cardíaca é:\", f'{meanThalach:.2f}',\"bpm\")\n",
        "\n",
        "# exibindo em um gráfico a distribuição por frequência cardíaca máxima e a média\n",
        "sns.displot(positive['thalach'], kde=True, color=\"orange\")\n",
        "plt.plot(meanThalach, 10.5, \"o\", color='red')\n",
        "plt.plot([meanThalach, meanThalach], [0, 10.5], 'r--', lw=1, color='red')\n",
        "plt.plot([90, meanThalach], [10.5, 10.5], 'r--', lw=1, color='red')\n",
        "plt.xlabel(\"Frequência cardíaca máxima\")\n",
        "plt.ylabel(\"Quantidade\")\n",
        "plt.title('Diagnósticos positivos por frequência cardíaca máxima')\n",
        "plt.show()"
      ],
      "metadata": {
        "colab": {
          "base_uri": "https://localhost:8080/",
          "height": 403
        },
        "id": "PGIBf7jM6DQB",
        "outputId": "fe85ee94-f344-480a-df9f-dd0b87c70786"
      },
      "execution_count": 19,
      "outputs": [
        {
          "output_type": "stream",
          "name": "stdout",
          "text": [
            "A média da frequência cardíaca máxima das pessoas com diagnóstico positivo de doença cardíaca é: 143.75 bpm\n"
          ]
        },
        {
          "output_type": "display_data",
          "data": {
            "image/png": "[encoded data removed]",
            "text/plain": [
              "<Figure size 360x360 with 1 Axes>"
            ]
          },
          "metadata": {
            "needs_background": "light"
          }
        }
      ]
    },
    {
      "cell_type": "code",
      "source": [
        "\n",
        "# cálculo da média de pressão sanguínea em repouso\n",
        "meanTrestbps = positive['trestbps'].mean()\n",
        "print(\"A média da pressão sanguínea em repouso das pessoas com diagnóstico positivo de doença cardíaca é:\", f'{meanTrestbps:.2f}',\"mmHg\")\n",
        "\n",
        "# exibindo em um gráfico a distribuição por pressão sanguínea em repouso e a média\n",
        "sns.displot(positive['trestbps'], kde=True, color=\"orange\")\n",
        "plt.plot(meanTrestbps, 10.5, \"o\", color='red')\n",
        "plt.plot([meanTrestbps, meanTrestbps], [0, 10.5], 'r--', lw=1, color='red')\n",
        "plt.plot([105, meanTrestbps], [10.5, 10.5], 'r--', lw=1, color='red')\n",
        "plt.xlabel(\"Pressão sanguínea em repouso\")\n",
        "plt.ylabel(\"Quantidade\")\n",
        "plt.title('Diagnósticos positivos por pressão sanguínea em repouso')\n",
        "plt.show()"
      ],
      "metadata": {
        "colab": {
          "base_uri": "https://localhost:8080/",
          "height": 403
        },
        "id": "iF1PC_HqB_lH",
        "outputId": "ef748472-0bed-41b7-d78a-9faa5a1e997b"
      },
      "execution_count": 20,
      "outputs": [
        {
          "output_type": "stream",
          "name": "stdout",
          "text": [
            "A média da pressão sanguínea em repouso das pessoas com diagnóstico positivo de doença cardíaca é: 132.27 mmHg\n"
          ]
        },
        {
          "output_type": "display_data",
          "data": {
            "image/png": "[encoded data removed]",
            "text/plain": [
              "<Figure size 360x360 with 1 Axes>"
            ]
          },
          "metadata": {
            "needs_background": "light"
          }
        }
      ]
    },
    {
      "cell_type": "code",
      "source": [
        "# exibindo em um gráfico a distribuição por sexo\n",
        "positive[\"sex\"].value_counts().plot(kind='pie', autopct='%.2f%%', labels=[\"M\", \"F\"], colors = palette)\n",
        "plt.title('Diagnósticos positivos por sexo')\n",
        "plt.ylabel(\"Sexo\")\n",
        "plt.show()"
      ],
      "metadata": {
        "colab": {
          "base_uri": "https://localhost:8080/",
          "height": 264
        },
        "id": "gOY25i9u6GKc",
        "outputId": "c5dcdc70-b76a-4dc2-a949-7568f303d5ea"
      },
      "execution_count": 21,
      "outputs": [
        {
          "output_type": "display_data",
          "data": {
            "image/png": "[encoded data removed]",
            "text/plain": [
              "<Figure size 432x288 with 1 Axes>"
            ]
          },
          "metadata": {}
        }
      ]
    },
    {
      "cell_type": "markdown",
      "metadata": {
        "id": "GaJz4subwaFZ"
      },
      "source": [
        "## **Experimentos e Testes**"
      ]
    },
    {
      "cell_type": "code",
      "source": [
        "pip install Boruta\n"
      ],
      "metadata": {
        "colab": {
          "base_uri": "https://localhost:8080/"
        },
        "id": "EPKTvuOtnoFw",
        "outputId": "a944f1ad-a014-4b05-fad6-a74804763ee0"
      },
      "execution_count": 22,
      "outputs": [
        {
          "output_type": "stream",
          "name": "stdout",
          "text": [
            "Collecting Boruta\n",
            "  Downloading Boruta-0.3-py3-none-any.whl (56 kB)\n",
            "\u001b[?25l\r\u001b[K     |█████▉                          | 10 kB 21.6 MB/s eta 0:00:01\r\u001b[K     |███████████▋                    | 20 kB 28.7 MB/s eta 0:00:01\r\u001b[K     |█████████████████▍              | 30 kB 14.7 MB/s eta 0:00:01\r\u001b[K     |███████████████████████▏        | 40 kB 10.8 MB/s eta 0:00:01\r\u001b[K     |█████████████████████████████   | 51 kB 10.8 MB/s eta 0:00:01\r\u001b[K     |████████████████████████████████| 56 kB 2.5 MB/s \n",
            "\u001b[?25hRequirement already satisfied: scipy>=0.17.0 in /usr/local/lib/python3.7/dist-packages (from Boruta) (1.4.1)\n",
            "Requirement already satisfied: numpy>=1.10.4 in /usr/local/lib/python3.7/dist-packages (from Boruta) (1.19.5)\n",
            "Requirement already satisfied: scikit-learn>=0.17.1 in /usr/local/lib/python3.7/dist-packages (from Boruta) (1.0.1)\n",
            "Requirement already satisfied: joblib>=0.11 in /usr/local/lib/python3.7/dist-packages (from scikit-learn>=0.17.1->Boruta) (1.1.0)\n",
            "Requirement already satisfied: threadpoolctl>=2.0.0 in /usr/local/lib/python3.7/dist-packages (from scikit-learn>=0.17.1->Boruta) (3.0.0)\n",
            "Installing collected packages: Boruta\n",
            "Successfully installed Boruta-0.3\n"
          ]
        }
      ]
    },
    {
      "cell_type": "code",
      "metadata": {
        "id": "0K2bLynQwi0g"
      },
      "source": [
        "# importando as bibliotecas que serão utilizadas:\n",
        "from sklearn.model_selection import train_test_split\n",
        "from sklearn.naive_bayes import GaussianNB\n",
        "from sklearn.preprocessing import RobustScaler\n",
        "from sklearn.metrics import accuracy_score, confusion_matrix, classification_report\n",
        "from subprocess import call\n",
        "from sklearn.model_selection import cross_val_score\n",
        "from sklearn.ensemble import RandomForestClassifier\n",
        "from boruta import BorutaPy"
      ],
      "execution_count": 23,
      "outputs": []
    },
    {
      "cell_type": "markdown",
      "source": [
        "### **Funções Auxiliares**"
      ],
      "metadata": {
        "id": "GGCUn1AL_jz5"
      }
    },
    {
      "cell_type": "markdown",
      "source": [
        "Em nossos testes e experimentos, utilizamos duas funções.\n",
        "\n",
        "A função `getResults` é usada para visualizar os resultados do modelo, exibindo a matriz de confusão e os indicadores.\n",
        "\n",
        "A função `process_train` para treinar um modelo Naïve Bayes dado um dataset e exibir os resultados utilizando a função anterior."
      ],
      "metadata": {
        "id": "wXzLkVlUmfij"
      }
    },
    {
      "cell_type": "code",
      "source": [
        "def getResults(x,y,x_test, y_test, model):\n",
        "  predicted = model.predict(x_test)\n",
        "  scores = cross_val_score(model, x, y, cv=5)\n",
        "  print(\"Acurácia = %0.4f\" %(accuracy_score(y_test, predicted)))\n",
        "  print(\"\\nValidação cruzada:\",\"\\nAcurácia média = %0.4f\\nDesvio padrão = %0.4f\"%(scores.mean(),scores.std()))\n",
        "  cm = confusion_matrix(y_test, predicted)\n",
        "  sns.heatmap(cm, center=True, cmap=\"Oranges\")\n",
        "  plt.show()\n",
        "  print(pd.DataFrame(\n",
        "    confusion_matrix(y_test, predicted),\n",
        "    columns=['Previsão Diagnóstico Negativo', 'Previsão Diagnóstico Positivo'],\n",
        "    index=['Verdadeiro Negativo', 'Verdadeiro Positivo']\n",
        "  ))\n",
        "  report = classification_report(y_test, predicted)\n",
        "  print(\"\\n\\n\\n\")\n",
        "  print(report)"
      ],
      "metadata": {
        "id": "NJ2Zb3HW1ex1"
      },
      "execution_count": 24,
      "outputs": []
    },
    {
      "cell_type": "code",
      "source": [
        "def process_train(df,stratified = False):\n",
        "  x = df.drop('num', axis=1) # nova tabela com todas as colunas exceto a do diagnóstico de doença ('num')\n",
        "  y = df['num'] # coluna do diagnóstico \n",
        "  if stratified==False:\n",
        "    X_train, X_test, y_train, y_test =train_test_split(x, y, random_state=42, test_size=0.3) # separando em teste e treino\n",
        "  else:\n",
        "    X_train, X_test, y_train, y_test =train_test_split(x, y, random_state=42, test_size=0.3, stratify=y)\n",
        "  gnb = GaussianNB()\n",
        "  y_pred =gnb.fit(X_train,y_train).predict(X_test) # treina e faz previsão\n",
        "  getResults(x,y,X_test,y_test,gnb) # exibe resultados"
      ],
      "metadata": {
        "id": "FI9ymwm_ChhL"
      },
      "execution_count": 25,
      "outputs": []
    },
    {
      "cell_type": "markdown",
      "source": [
        "### **Experimento 1**"
      ],
      "metadata": {
        "id": "scZRZthrIl0N"
      }
    },
    {
      "cell_type": "markdown",
      "source": [
        "Nesse experimento, iremos treinar e checar a performance do algoritmo para toda a base de dados, sem modificação."
      ],
      "metadata": {
        "id": "MsIZEJZ9mPUX"
      }
    },
    {
      "cell_type": "code",
      "metadata": {
        "id": "5-OmEMezwrZ-",
        "colab": {
          "base_uri": "https://localhost:8080/",
          "height": 630
        },
        "outputId": "6a8ffb36-d133-4fa3-ddea-172b336baf08"
      },
      "source": [
        "process_train(df)"
      ],
      "execution_count": 26,
      "outputs": [
        {
          "output_type": "stream",
          "name": "stdout",
          "text": [
            "Acurácia = 0.7031\n",
            "\n",
            "Validação cruzada: \n",
            "Acurácia média = 0.7843\n",
            "Desvio padrão = 0.0570\n"
          ]
        },
        {
          "output_type": "display_data",
          "data": {
            "image/png": "[encoded data removed]",
            "text/plain": [
              "<Figure size 432x288 with 2 Axes>"
            ]
          },
          "metadata": {
            "needs_background": "light"
          }
        },
        {
          "output_type": "stream",
          "name": "stdout",
          "text": [
            "                     Previsão Diagnóstico Negativo  Previsão Diagnóstico Positivo\n",
            "Verdadeiro Negativo                             36                             15\n",
            "Verdadeiro Positivo                              4                              9\n",
            "\n",
            "\n",
            "\n",
            "\n",
            "              precision    recall  f1-score   support\n",
            "\n",
            "         0.0       0.90      0.71      0.79        51\n",
            "         1.0       0.38      0.69      0.49        13\n",
            "\n",
            "    accuracy                           0.70        64\n",
            "   macro avg       0.64      0.70      0.64        64\n",
            "weighted avg       0.79      0.70      0.73        64\n",
            "\n"
          ]
        }
      ]
    },
    {
      "cell_type": "markdown",
      "source": [
        "### **Experimento 2**"
      ],
      "metadata": {
        "id": "KHahoUGOE6ft"
      }
    },
    {
      "cell_type": "markdown",
      "source": [
        "Nesse experimento, iremos estratificar a base de dados e checar se essa divisão em grupos homogêneos impacta a performance."
      ],
      "metadata": {
        "id": "E7tJtEMAmTta"
      }
    },
    {
      "cell_type": "code",
      "source": [
        "process_train(df,True)"
      ],
      "metadata": {
        "colab": {
          "base_uri": "https://localhost:8080/",
          "height": 634
        },
        "id": "TogloJPME5D5",
        "outputId": "e5d2d6da-a0c5-4beb-e86a-498fe5391449"
      },
      "execution_count": 27,
      "outputs": [
        {
          "output_type": "stream",
          "name": "stdout",
          "text": [
            "Acurácia = 0.6875\n",
            "\n",
            "Validação cruzada: \n",
            "Acurácia média = 0.7843\n",
            "Desvio padrão = 0.0570\n"
          ]
        },
        {
          "output_type": "display_data",
          "data": {
            "image/png": "[encoded data removed]",
            "text/plain": [
              "<Figure size 432x288 with 2 Axes>"
            ]
          },
          "metadata": {
            "needs_background": "light"
          }
        },
        {
          "output_type": "stream",
          "name": "stdout",
          "text": [
            "                     Previsão Diagnóstico Negativo  Previsão Diagnóstico Positivo\n",
            "Verdadeiro Negativo                             35                             12\n",
            "Verdadeiro Positivo                              8                              9\n",
            "\n",
            "\n",
            "\n",
            "\n",
            "              precision    recall  f1-score   support\n",
            "\n",
            "         0.0       0.81      0.74      0.78        47\n",
            "         1.0       0.43      0.53      0.47        17\n",
            "\n",
            "    accuracy                           0.69        64\n",
            "   macro avg       0.62      0.64      0.63        64\n",
            "weighted avg       0.71      0.69      0.70        64\n",
            "\n"
          ]
        }
      ]
    },
    {
      "cell_type": "markdown",
      "source": [
        "A precisão da classe de diagnóstico positivo diminuiu e o recall aumentou. Já na classe de diagnóstico negativo, a precisão aumentou e o recall diminuiu. É o tradeoff de precisão/recall.\n",
        "\n",
        "Para os devidos fins, a nossa métrica mais importante é o recall, já que **falsos diagnósticos negativos são mais prejudiciais que falsos diagnósticos positivos**. E vemos que o número de falsos negativos diminuiu de 15 para 12.\n",
        "\n",
        "Portanto:\n",
        "\n",
        "*   Estratificação melhorou a precisão nos grupos menos hegemônico (diagnóstico positivo), sob o custo de piorar a precisão do grupo hegemônico (diagnóstico negativo)\n",
        "*   Piorou o recall da classe de diagnóstico positivo e melhorou o recall da classe de diagnóstico negativo.\n",
        "*   Temos menos falsos negativos que na base de dados não estratificada.\n",
        "\n"
      ],
      "metadata": {
        "id": "peLKKWwrFeQp"
      }
    },
    {
      "cell_type": "markdown",
      "source": [
        "### **Experimento 3**"
      ],
      "metadata": {
        "id": "ZO3sGI1c0Tzb"
      }
    },
    {
      "cell_type": "markdown",
      "source": [
        "Nesse experimento, buscaremos melhorar a performance do modelo através da seleção de features (características).\n",
        "\n",
        "Iremos usar um algoritmo de seleção de Features baseado no modelo de Random Forest - o algoritmo Boruta. Esse algoritmo treina um modelo de random forest e nos retorna - ou tenta retornar - o conjunto de features que performam melhor."
      ],
      "metadata": {
        "id": "j-Jl4_bPmXY2"
      }
    },
    {
      "cell_type": "code",
      "source": [
        "# boruta\n",
        "\n",
        "x,y = df.drop('num', axis=1), df['num']\n",
        "\n",
        "metamodel = RandomForestClassifier(max_depth = 3)\n",
        "feature_selector = BorutaPy(metamodel, n_estimators='auto', verbose=False, random_state=28)\n",
        "\n",
        "x_train, x_test, y_train, y_test = train_test_split(x,y,test_size=0.3,random_state=42)\n",
        "\n",
        "x_train=x_train.to_numpy()\n",
        "\n",
        "y_train=y_train.ravel()\n",
        "\n",
        "feature_selector.fit(x_train, y_train)"
      ],
      "metadata": {
        "colab": {
          "base_uri": "https://localhost:8080/"
        },
        "id": "X2rqWLVl0S4I",
        "outputId": "306db8eb-bb22-45e6-b4ea-f6a65015824e"
      },
      "execution_count": 28,
      "outputs": [
        {
          "output_type": "execute_result",
          "data": {
            "text/plain": [
              "BorutaPy(estimator=RandomForestClassifier(max_depth=3, n_estimators=115,\n",
              "                                          random_state=RandomState(MT19937) at 0x7FD9FB73DD10),\n",
              "         n_estimators='auto',\n",
              "         random_state=RandomState(MT19937) at 0x7FD9FB73DD10, verbose=False)"
            ]
          },
          "metadata": {},
          "execution_count": 28
        }
      ]
    },
    {
      "cell_type": "code",
      "source": [
        "feature_selector.support_"
      ],
      "metadata": {
        "colab": {
          "base_uri": "https://localhost:8080/"
        },
        "id": "ifrineTB2yE5",
        "outputId": "484efb6b-e8d1-4c9a-ff95-0d4b150400e9"
      },
      "execution_count": 29,
      "outputs": [
        {
          "output_type": "execute_result",
          "data": {
            "text/plain": [
              "array([ True, False,  True, False, False, False, False,  True,  True,\n",
              "        True, False, False,  True])"
            ]
          },
          "metadata": {},
          "execution_count": 29
        }
      ]
    },
    {
      "cell_type": "code",
      "source": [
        "x.columns"
      ],
      "metadata": {
        "colab": {
          "base_uri": "https://localhost:8080/"
        },
        "id": "6tIQHSgs4TNp",
        "outputId": "4b2b237c-9437-4d81-e063-72910d5c02ee"
      },
      "execution_count": 30,
      "outputs": [
        {
          "output_type": "execute_result",
          "data": {
            "text/plain": [
              "Index(['age', 'sex', 'cp', 'trestbps', 'chol', 'fbs', 'restcg', 'thalach',\n",
              "       'exang', 'oldpeak', 'slope', 'ca', 'thal'],\n",
              "      dtype='object')"
            ]
          },
          "metadata": {},
          "execution_count": 30
        }
      ]
    },
    {
      "cell_type": "code",
      "source": [
        "df_filtered = df.copy()\n",
        "chosen_features = []\n",
        "for i,val in enumerate(feature_selector.support_):\n",
        "  if val == True:\n",
        "    chosen_features.append(x.columns[i])\n",
        "df_filtered = df_filtered[chosen_features]\n",
        "df_filtered['num'] = y\n",
        "df_filtered"
      ],
      "metadata": {
        "colab": {
          "base_uri": "https://localhost:8080/",
          "height": 423
        },
        "id": "Gf3c_h5M464M",
        "outputId": "f11abe48-91a2-493d-b16b-fef431dfe745"
      },
      "execution_count": 31,
      "outputs": [
        {
          "output_type": "execute_result",
          "data": {
            "text/html": [
              "\n",
              "  <div id=\"df-7e4e16b6-de6b-4eff-a9be-97b98cbbf34b\">\n",
              "    <div class=\"colab-df-container\">\n",
              "      <div>\n",
              "<style scoped>\n",
              "    .dataframe tbody tr th:only-of-type {\n",
              "        vertical-align: middle;\n",
              "    }\n",
              "\n",
              "    .dataframe tbody tr th {\n",
              "        vertical-align: top;\n",
              "    }\n",
              "\n",
              "    .dataframe thead th {\n",
              "        text-align: right;\n",
              "    }\n",
              "</style>\n",
              "<table border=\"1\" class=\"dataframe\">\n",
              "  <thead>\n",
              "    <tr style=\"text-align: right;\">\n",
              "      <th></th>\n",
              "      <th>age</th>\n",
              "      <th>cp</th>\n",
              "      <th>thalach</th>\n",
              "      <th>exang</th>\n",
              "      <th>oldpeak</th>\n",
              "      <th>thal</th>\n",
              "      <th>num</th>\n",
              "    </tr>\n",
              "  </thead>\n",
              "  <tbody>\n",
              "    <tr>\n",
              "      <th>0</th>\n",
              "      <td>63.0</td>\n",
              "      <td>1.0</td>\n",
              "      <td>150.0</td>\n",
              "      <td>0.0</td>\n",
              "      <td>2.3</td>\n",
              "      <td>6.0</td>\n",
              "      <td>0.0</td>\n",
              "    </tr>\n",
              "    <tr>\n",
              "      <th>2</th>\n",
              "      <td>67.0</td>\n",
              "      <td>4.0</td>\n",
              "      <td>129.0</td>\n",
              "      <td>1.0</td>\n",
              "      <td>2.6</td>\n",
              "      <td>7.0</td>\n",
              "      <td>1.0</td>\n",
              "    </tr>\n",
              "    <tr>\n",
              "      <th>3</th>\n",
              "      <td>37.0</td>\n",
              "      <td>3.0</td>\n",
              "      <td>187.0</td>\n",
              "      <td>0.0</td>\n",
              "      <td>3.5</td>\n",
              "      <td>3.0</td>\n",
              "      <td>0.0</td>\n",
              "    </tr>\n",
              "    <tr>\n",
              "      <th>4</th>\n",
              "      <td>41.0</td>\n",
              "      <td>2.0</td>\n",
              "      <td>172.0</td>\n",
              "      <td>0.0</td>\n",
              "      <td>1.4</td>\n",
              "      <td>3.0</td>\n",
              "      <td>0.0</td>\n",
              "    </tr>\n",
              "    <tr>\n",
              "      <th>5</th>\n",
              "      <td>56.0</td>\n",
              "      <td>2.0</td>\n",
              "      <td>178.0</td>\n",
              "      <td>0.0</td>\n",
              "      <td>0.8</td>\n",
              "      <td>3.0</td>\n",
              "      <td>0.0</td>\n",
              "    </tr>\n",
              "    <tr>\n",
              "      <th>...</th>\n",
              "      <td>...</td>\n",
              "      <td>...</td>\n",
              "      <td>...</td>\n",
              "      <td>...</td>\n",
              "      <td>...</td>\n",
              "      <td>...</td>\n",
              "      <td>...</td>\n",
              "    </tr>\n",
              "    <tr>\n",
              "      <th>297</th>\n",
              "      <td>57.0</td>\n",
              "      <td>4.0</td>\n",
              "      <td>123.0</td>\n",
              "      <td>1.0</td>\n",
              "      <td>0.2</td>\n",
              "      <td>7.0</td>\n",
              "      <td>1.0</td>\n",
              "    </tr>\n",
              "    <tr>\n",
              "      <th>298</th>\n",
              "      <td>45.0</td>\n",
              "      <td>1.0</td>\n",
              "      <td>132.0</td>\n",
              "      <td>0.0</td>\n",
              "      <td>1.2</td>\n",
              "      <td>7.0</td>\n",
              "      <td>1.0</td>\n",
              "    </tr>\n",
              "    <tr>\n",
              "      <th>301</th>\n",
              "      <td>57.0</td>\n",
              "      <td>2.0</td>\n",
              "      <td>174.0</td>\n",
              "      <td>0.0</td>\n",
              "      <td>0.0</td>\n",
              "      <td>3.0</td>\n",
              "      <td>1.0</td>\n",
              "    </tr>\n",
              "    <tr>\n",
              "      <th>508</th>\n",
              "      <td>47.0</td>\n",
              "      <td>4.0</td>\n",
              "      <td>98.0</td>\n",
              "      <td>1.0</td>\n",
              "      <td>1.5</td>\n",
              "      <td>7.0</td>\n",
              "      <td>1.0</td>\n",
              "    </tr>\n",
              "    <tr>\n",
              "      <th>748</th>\n",
              "      <td>56.0</td>\n",
              "      <td>4.0</td>\n",
              "      <td>120.0</td>\n",
              "      <td>1.0</td>\n",
              "      <td>1.5</td>\n",
              "      <td>7.0</td>\n",
              "      <td>1.0</td>\n",
              "    </tr>\n",
              "  </tbody>\n",
              "</table>\n",
              "<p>213 rows × 7 columns</p>\n",
              "</div>\n",
              "      <button class=\"colab-df-convert\" onclick=\"convertToInteractive('df-7e4e16b6-de6b-4eff-a9be-97b98cbbf34b')\"\n",
              "              title=\"Convert this dataframe to an interactive table.\"\n",
              "              style=\"display:none;\">\n",
              "        \n",
              "  <svg xmlns=\"http://www.w3.org/2000/svg\" height=\"24px\"viewBox=\"0 0 24 24\"\n",
              "       width=\"24px\">\n",
              "    <path d=\"M0 0h24v24H0V0z\" fill=\"none\"/>\n",
              "    <path d=\"M18.56 5.44l.94 2.06.94-2.06 2.06-.94-2.06-.94-.94-2.06-.94 2.06-2.06.94zm-11 1L8.5 8.5l.94-2.06 2.06-.94-2.06-.94L8.5 2.5l-.94 2.06-2.06.94zm10 10l.94 2.06.94-2.06 2.06-.94-2.06-.94-.94-2.06-.94 2.06-2.06.94z\"/><path d=\"M17.41 7.96l-1.37-1.37c-.4-.4-.92-.59-1.43-.59-.52 0-1.04.2-1.43.59L10.3 9.45l-7.72 7.72c-.78.78-.78 2.05 0 2.83L4 21.41c.39.39.9.59 1.41.59.51 0 1.02-.2 1.41-.59l7.78-7.78 2.81-2.81c.8-.78.8-2.07 0-2.86zM5.41 20L4 18.59l7.72-7.72 1.47 1.35L5.41 20z\"/>\n",
              "  </svg>\n",
              "      </button>\n",
              "      \n",
              "  <style>\n",
              "    .colab-df-container {\n",
              "      display:flex;\n",
              "      flex-wrap:wrap;\n",
              "      gap: 12px;\n",
              "    }\n",
              "\n",
              "    .colab-df-convert {\n",
              "      background-color: #E8F0FE;\n",
              "      border: none;\n",
              "      border-radius: 50%;\n",
              "      cursor: pointer;\n",
              "      display: none;\n",
              "      fill: #1967D2;\n",
              "      height: 32px;\n",
              "      padding: 0 0 0 0;\n",
              "      width: 32px;\n",
              "    }\n",
              "\n",
              "    .colab-df-convert:hover {\n",
              "      background-color: #E2EBFA;\n",
              "      box-shadow: 0px 1px 2px rgba(60, 64, 67, 0.3), 0px 1px 3px 1px rgba(60, 64, 67, 0.15);\n",
              "      fill: #174EA6;\n",
              "    }\n",
              "\n",
              "    [theme=dark] .colab-df-convert {\n",
              "      background-color: #3B4455;\n",
              "      fill: #D2E3FC;\n",
              "    }\n",
              "\n",
              "    [theme=dark] .colab-df-convert:hover {\n",
              "      background-color: #434B5C;\n",
              "      box-shadow: 0px 1px 3px 1px rgba(0, 0, 0, 0.15);\n",
              "      filter: drop-shadow(0px 1px 2px rgba(0, 0, 0, 0.3));\n",
              "      fill: #FFFFFF;\n",
              "    }\n",
              "  </style>\n",
              "\n",
              "      <script>\n",
              "        const buttonEl =\n",
              "          document.querySelector('#df-7e4e16b6-de6b-4eff-a9be-97b98cbbf34b button.colab-df-convert');\n",
              "        buttonEl.style.display =\n",
              "          google.colab.kernel.accessAllowed ? 'block' : 'none';\n",
              "\n",
              "        async function convertToInteractive(key) {\n",
              "          const element = document.querySelector('#df-7e4e16b6-de6b-4eff-a9be-97b98cbbf34b');\n",
              "          const dataTable =\n",
              "            await google.colab.kernel.invokeFunction('convertToInteractive',\n",
              "                                                     [key], {});\n",
              "          if (!dataTable) return;\n",
              "\n",
              "          const docLinkHtml = 'Like what you see? Visit the ' +\n",
              "            '<a target=\"_blank\" href=https://colab.research.google.com/notebooks/data_table.ipynb>data table notebook</a>'\n",
              "            + ' to learn more about interactive tables.';\n",
              "          element.innerHTML = '';\n",
              "          dataTable['output_type'] = 'display_data';\n",
              "          await google.colab.output.renderOutput(dataTable, element);\n",
              "          const docLink = document.createElement('div');\n",
              "          docLink.innerHTML = docLinkHtml;\n",
              "          element.appendChild(docLink);\n",
              "        }\n",
              "      </script>\n",
              "    </div>\n",
              "  </div>\n",
              "  "
            ],
            "text/plain": [
              "      age   cp  thalach  exang  oldpeak  thal  num\n",
              "0    63.0  1.0    150.0    0.0      2.3   6.0  0.0\n",
              "2    67.0  4.0    129.0    1.0      2.6   7.0  1.0\n",
              "3    37.0  3.0    187.0    0.0      3.5   3.0  0.0\n",
              "4    41.0  2.0    172.0    0.0      1.4   3.0  0.0\n",
              "5    56.0  2.0    178.0    0.0      0.8   3.0  0.0\n",
              "..    ...  ...      ...    ...      ...   ...  ...\n",
              "297  57.0  4.0    123.0    1.0      0.2   7.0  1.0\n",
              "298  45.0  1.0    132.0    0.0      1.2   7.0  1.0\n",
              "301  57.0  2.0    174.0    0.0      0.0   3.0  1.0\n",
              "508  47.0  4.0     98.0    1.0      1.5   7.0  1.0\n",
              "748  56.0  4.0    120.0    1.0      1.5   7.0  1.0\n",
              "\n",
              "[213 rows x 7 columns]"
            ]
          },
          "metadata": {},
          "execution_count": 31
        }
      ]
    },
    {
      "cell_type": "code",
      "source": [
        "process_train(df_filtered)"
      ],
      "metadata": {
        "colab": {
          "base_uri": "https://localhost:8080/",
          "height": 630
        },
        "id": "YmPcBCxo58j_",
        "outputId": "da428be6-a704-4ec0-cdd4-2d3ca0ab30fb"
      },
      "execution_count": 32,
      "outputs": [
        {
          "output_type": "stream",
          "name": "stdout",
          "text": [
            "Acurácia = 0.6406\n",
            "\n",
            "Validação cruzada: \n",
            "Acurácia média = 0.7558\n",
            "Desvio padrão = 0.0524\n"
          ]
        },
        {
          "output_type": "display_data",
          "data": {
            "image/png": "[encoded data removed]",
            "text/plain": [
              "<Figure size 432x288 with 2 Axes>"
            ]
          },
          "metadata": {
            "needs_background": "light"
          }
        },
        {
          "output_type": "stream",
          "name": "stdout",
          "text": [
            "                     Previsão Diagnóstico Negativo  Previsão Diagnóstico Positivo\n",
            "Verdadeiro Negativo                             34                             17\n",
            "Verdadeiro Positivo                              6                              7\n",
            "\n",
            "\n",
            "\n",
            "\n",
            "              precision    recall  f1-score   support\n",
            "\n",
            "         0.0       0.85      0.67      0.75        51\n",
            "         1.0       0.29      0.54      0.38        13\n",
            "\n",
            "    accuracy                           0.64        64\n",
            "   macro avg       0.57      0.60      0.56        64\n",
            "weighted avg       0.74      0.64      0.67        64\n",
            "\n"
          ]
        }
      ]
    },
    {
      "cell_type": "markdown",
      "source": [
        "Vemos que, em relação ao experimento 2, temos que a precissão da classe de diagnóstico negativo aumentou um pouco e a da classe de diagnóstico positivo diminuiu bruscamente. O recall piorou para o diagnóstico negativo e melhorou para o diagnóstico positivo. Vemos que temos mais falsos negativos nesse experimento que nos últimos dois.\n",
        "\n",
        "Portanto:\n",
        "\n",
        "\n",
        "*   O modelo com essas escolhas de variáveis e sem estratificação, para os devidos fins, performa pior que os outros experimentos, já que possui maior quantidade de falsos negativos)\n",
        "*   O aumento do recall e da precisão nas classes diagnóstico positivo e diagnóstico negativo, respectivamente é irrisório em relação a diminuição dos outros indices.\n",
        "\n"
      ],
      "metadata": {
        "id": "UhL4xicTMCsi"
      }
    },
    {
      "cell_type": "markdown",
      "source": [
        "### **Experimento 4**\n"
      ],
      "metadata": {
        "id": "ixNT04IsLYyL"
      }
    },
    {
      "cell_type": "markdown",
      "source": [
        "Nesse experimento, iremos usar as features escolhidas anteriormente, mas estratificando os dados."
      ],
      "metadata": {
        "id": "koyQMxTImbGS"
      }
    },
    {
      "cell_type": "code",
      "source": [
        "process_train(df_filtered, True)"
      ],
      "metadata": {
        "colab": {
          "base_uri": "https://localhost:8080/",
          "height": 634
        },
        "id": "nLPNrMfaL6MH",
        "outputId": "35056893-7ebd-4419-e56b-70094d29360d"
      },
      "execution_count": 33,
      "outputs": [
        {
          "output_type": "stream",
          "name": "stdout",
          "text": [
            "Acurácia = 0.7344\n",
            "\n",
            "Validação cruzada: \n",
            "Acurácia média = 0.7558\n",
            "Desvio padrão = 0.0524\n"
          ]
        },
        {
          "output_type": "display_data",
          "data": {
            "image/png": "[encoded data removed]",
            "text/plain": [
              "<Figure size 432x288 with 2 Axes>"
            ]
          },
          "metadata": {
            "needs_background": "light"
          }
        },
        {
          "output_type": "stream",
          "name": "stdout",
          "text": [
            "                     Previsão Diagnóstico Negativo  Previsão Diagnóstico Positivo\n",
            "Verdadeiro Negativo                             40                              7\n",
            "Verdadeiro Positivo                             10                              7\n",
            "\n",
            "\n",
            "\n",
            "\n",
            "              precision    recall  f1-score   support\n",
            "\n",
            "         0.0       0.80      0.85      0.82        47\n",
            "         1.0       0.50      0.41      0.45        17\n",
            "\n",
            "    accuracy                           0.73        64\n",
            "   macro avg       0.65      0.63      0.64        64\n",
            "weighted avg       0.72      0.73      0.73        64\n",
            "\n"
          ]
        }
      ]
    },
    {
      "cell_type": "markdown",
      "source": [
        "Nesse experimento, vemos de início que temos o menor número de falsos negativos dos experimentos até então. O recall dos diagnóstico negativo aumentou em detrimento da precisão, ocorreu o inverso na classe de diagnóstico positivo, onde a precisão aumetou em detrimento do recall.\n",
        "\n",
        "Portanto:\n",
        "\n",
        "*   A estratificação, para os devidos fins, afetou positivamente o modelo.\n",
        "*   Temos a menor quantidade de falsos negativos dos experimentos.\n",
        "\n"
      ],
      "metadata": {
        "id": "5rI8H-stPHCU"
      }
    }
  ]
}